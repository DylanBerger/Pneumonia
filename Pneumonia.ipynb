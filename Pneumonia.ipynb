{
 "cells": [
  {
   "cell_type": "code",
   "execution_count": 56,
   "id": "f78c1af6-2e84-48c4-8947-7f8db4033e1f",
   "metadata": {},
   "outputs": [],
   "source": [
    "import tensorflow as tf\n",
    "import os"
   ]
  },
  {
   "cell_type": "code",
   "execution_count": 57,
   "id": "09373230-ce4d-4820-a99f-7ad158f86b5b",
   "metadata": {},
   "outputs": [],
   "source": [
    "#os.path.join('data', 'archive')"
   ]
  },
  {
   "cell_type": "code",
   "execution_count": 58,
   "id": "05a364d8-6cba-4241-a790-7fa5897d55b5",
   "metadata": {},
   "outputs": [],
   "source": [
    "gpus = tf.config.experimental.list_physical_devices('GPU')\n",
    "for gpu in gpus:\n",
    "    tf.config.experimental.set_memory_growth(gpu, True)"
   ]
  },
  {
   "cell_type": "code",
   "execution_count": 59,
   "id": "5e1ef5d2-eac1-48f0-8d5a-007b9cc036fa",
   "metadata": {},
   "outputs": [],
   "source": [
    "import cv2\n",
    "import imghdr"
   ]
  },
  {
   "cell_type": "code",
   "execution_count": 60,
   "id": "5d6240c4-18f1-4596-b74d-bc09d1182736",
   "metadata": {},
   "outputs": [],
   "source": [
    "#data_dir = 'archive'"
   ]
  },
  {
   "cell_type": "code",
   "execution_count": 61,
   "id": "0efa561a-f3f1-4dd2-b41f-f84f9e37a46b",
   "metadata": {},
   "outputs": [],
   "source": [
    "#os.listdir('data')"
   ]
  },
  {
   "cell_type": "code",
   "execution_count": 49,
   "id": "3b440fbf-1171-4105-8620-f4c91ef1f750",
   "metadata": {},
   "outputs": [],
   "source": [
    "image_exts = ['jpeg']"
   ]
  },
  {
   "cell_type": "code",
   "execution_count": null,
   "id": "3ddc573d-130b-4f5e-bd0d-5d2fe9429620",
   "metadata": {},
   "outputs": [],
   "source": []
  },
  {
   "cell_type": "code",
   "execution_count": null,
   "id": "c14ece77-49e1-43e8-bdb0-478b3eae3cde",
   "metadata": {},
   "outputs": [],
   "source": []
  }
 ],
 "metadata": {
  "kernelspec": {
   "display_name": "Python 3 (ipykernel)",
   "language": "python",
   "name": "python3"
  },
  "language_info": {
   "codemirror_mode": {
    "name": "ipython",
    "version": 3
   },
   "file_extension": ".py",
   "mimetype": "text/x-python",
   "name": "python",
   "nbconvert_exporter": "python",
   "pygments_lexer": "ipython3",
   "version": "3.10.9"
  }
 },
 "nbformat": 4,
 "nbformat_minor": 5
}
